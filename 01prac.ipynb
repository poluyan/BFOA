{
  "nbformat": 4,
  "nbformat_minor": 0,
  "metadata": {
    "colab": {
      "name": "01prac.ipynb",
      "provenance": [],
      "collapsed_sections": [
        "1b7sv7KFNENj",
        "YSH32DVOQXe2",
        "qaChxr3ZB2vR",
        "FppRbfguJNBS",
        "KZyL7ZRKKNAC"
      ],
      "include_colab_link": true
    },
    "kernelspec": {
      "name": "python3",
      "display_name": "Python 3"
    },
    "language_info": {
      "name": "python"
    }
  },
  "cells": [
    {
      "cell_type": "markdown",
      "metadata": {
        "id": "view-in-github",
        "colab_type": "text"
      },
      "source": [
        "<a href=\"https://colab.research.google.com/github/poluyan/BFOA/blob/master/01prac.ipynb\" target=\"_parent\"><img src=\"https://colab.research.google.com/assets/colab-badge.svg\" alt=\"Open In Colab\"/></a>"
      ]
    },
    {
      "cell_type": "markdown",
      "metadata": {
        "id": "1b7sv7KFNENj"
      },
      "source": [
        "## Задание 1. Аналитическое (выполняется в тетради)"
      ]
    },
    {
      "cell_type": "markdown",
      "metadata": {
        "id": "nDuH9MPLP7vS"
      },
      "source": [
        "###1.1 Вычислите производную заданной функции:"
      ]
    },
    {
      "cell_type": "markdown",
      "metadata": {
        "id": "LyL3HsPhOZXa"
      },
      "source": [
        "1. $y(x)=2x^2-3x+1$\n",
        "2. $y(x)=3x^2+x-1$\n",
        "3. $y(x)=-2x^2-x+4$\n",
        "4. $y(x)=x^2+4x+2$\n",
        "5. $y(x)=-3x^2-3x+4$\n",
        "6. $y(x)=4x^2-2x-1$\n",
        "7. $y(x)=5x^2+x+3$\n",
        "8. $y(x)=-x^2-4x+5$\n",
        "9. $y(x)=-4x^2+4x-1$\n",
        "10. $y(x)=-2x^2+6x+5$\n",
        "11. $y(x)=-5x^2+x-4$\n",
        "12. $y(x)=4x^2+2x+1$"
      ]
    },
    {
      "cell_type": "markdown",
      "metadata": {
        "id": "pDEsQGsFQBVx"
      },
      "source": [
        "###1.2 Вычислите производную заданной функции:"
      ]
    },
    {
      "cell_type": "markdown",
      "metadata": {
        "id": "DXczJq1pOwjy"
      },
      "source": [
        "1. $y(x)=e^{-x}\\cdot\\sin{4x}$\n",
        "2. $y(x)=e^{2x}\\cdot\\cos{(x+1)}$\n",
        "3. $y(x)=e^{-x}\\cdot\\sqrt{x-2}$\n",
        "4. $y(x)=e^{-2x}\\cdot\\sin{(2x-2)}$\n",
        "5. $y(x)=e^{2x}\\cdot\\cos{3x}$\n",
        "6. $y(x)=e^{x}\\cdot\\sqrt{2x+1}$\n",
        "7. $y(x)=e^{-3x}\\cdot\\ln{(4x)}$\n",
        "8. $y(x)=e^{-2x}\\cdot\\sin{(2-x)}$\n",
        "9. $y(x)=e^{-x}\\cdot\\cos{(1-2x)}$\n",
        "10. $y(x)=e^{x}\\cdot\\sqrt{4x+2}$\n",
        "11. $y(x)=e^{2x}\\cdot\\ln{(1-x)}$\n",
        "12. $y(x)=e^{-2x}\\cdot\\ln{(3+2x)}$\n"
      ]
    },
    {
      "cell_type": "markdown",
      "metadata": {
        "id": "_s45SxSdQJZ8"
      },
      "source": [
        "###1.3 Вычислите производную заданной функции:"
      ]
    },
    {
      "cell_type": "markdown",
      "metadata": {
        "id": "JgYeq7ubPHp7"
      },
      "source": [
        "1. $x(t)=\\sin(e^{2t})$\n",
        "2. $x(t)=\\sqrt{\\sin{3t}}$\n",
        "3. $x(t)=e^{\\cos(1-t)}$\n",
        "4. $x(t)=\\ln(1+4t^3)$\n",
        "5. $x(t)=\\tan(1/(t^2-t))$\n",
        "6. $x(t)=\\cos(\\ln(1-2t))$\n",
        "7. $x(t)=\\sin^3(t^2+t)$\n",
        "8. $x(t)=\\arcsin(\\sqrt{t})$\n",
        "9. $x(t)=2^{t^3-4t^2}$\n",
        "10. $x(t)=\\sin(\\cos{2t})$\n",
        "11. $x(t)=\\ln(1+e^{-t})$\n",
        "12. $x(t)=\\arccos(1-t^2)$\n"
      ]
    },
    {
      "cell_type": "markdown",
      "metadata": {
        "id": "3aqQGpCAUPZl"
      },
      "source": [
        "###1.4 Вычислите неопределенный интеграл от заданной функции:"
      ]
    },
    {
      "cell_type": "markdown",
      "metadata": {
        "id": "E2vwW7bbUW83"
      },
      "source": [
        "1. $y(x)=2x+3$\n",
        "2. $y(x)=4-x$\n",
        "3. $y(x)=3x-1$\n",
        "4. $y(x)=2-3x$\n",
        "5. $y(x)=5x+2$\n",
        "6. $y(x)=-2x+4$\n",
        "7. $y(x)=6x-3$\n",
        "8. $y(x)=1-4x$\n",
        "9. $y(x)=5+2x$\n",
        "10. $y(x)=1-4x$\n",
        "11. $y(x)=-x+5$\n",
        "12. $y(x)=6-2x$\n"
      ]
    },
    {
      "cell_type": "markdown",
      "metadata": {
        "id": "A5nw4KpwUvCM"
      },
      "source": [
        "###1.5 Вычислите определенный интеграл:"
      ]
    },
    {
      "cell_type": "markdown",
      "metadata": {
        "id": "ephrq5ROWNDY"
      },
      "source": [
        "1. $\\int_0^1 e^{6x-3}dx$\n",
        "2. $\\int_0^\\pi \\sin(1-4x)dx$\n",
        "3. $\\int_1^2 \\cos(5+2x)dx$\n",
        "4. $\\int_{-1}^0 dx/(1-4x)$\n",
        "5. $\\int_1^4 \\sqrt{5-x}dx$\n",
        "6. $\\int_0^3 e^{6-2x}dx$\n",
        "7. $\\int_0^1 \\cos(2x+3)dx$\n",
        "8. $\\int_0^4 \\sin(4-x)dx$\n",
        "9. $\\int_1^2 dx/(3x-1)$\n",
        "10. $\\int_{-1}^0 dx/\\sqrt{2-3x}$\n",
        "11. $\\int_1^4 e^{5x+2}dx$\n",
        "12. $\\int_0^2 \\sin(-2x+4)dx$"
      ]
    },
    {
      "cell_type": "markdown",
      "metadata": {
        "id": "N6j0vGB_WvEX"
      },
      "source": [
        "###1.6 Найдите общее решение простейшего дифференциального уравнения и решите соответствующую начальную задачу:"
      ]
    },
    {
      "cell_type": "markdown",
      "metadata": {
        "id": "DLrgwuNMW2BN"
      },
      "source": [
        "1. $y'x=1$, $y(e)=2$\n",
        "2. $y'-x^2=x$, $y(1)=-1$\n",
        "3. $2y'=x+\\sin{3x}$, $y(\\pi)=0$\n",
        "4. $(x+1)y'=2$, $y(0)=-1$\n",
        "5. $y'+x^3=1$, $y(-1)=2$\n",
        "6. $xy'=x^2+1$, $y(1)=4$\n",
        "7. $y'x^2=1-x$, $y(1)=0$\n",
        "8. $y'-\\cos{x}=x+1$, $y(0)=1$\n",
        "9. $y'+x^3=\\sin{3x}$, $y(0)=0$\n",
        "10. $y'x=\\sqrt{x}-x^2$, $y(4)=1$\n",
        "11. $y'-3x^2=\\cos{x}$, $y(\\pi)=0$\n",
        "12. $\\sqrt{x}y'=1+2x^2$, $y(9)=-1$\n"
      ]
    },
    {
      "cell_type": "markdown",
      "metadata": {
        "id": "YSH32DVOQXe2"
      },
      "source": [
        "##Задание 2. Производные, интегралы в SymPy"
      ]
    },
    {
      "cell_type": "markdown",
      "metadata": {
        "id": "qaChxr3ZB2vR"
      },
      "source": [
        "###Пример оформления решения"
      ]
    },
    {
      "cell_type": "markdown",
      "metadata": {
        "id": "dSRCjH20bt-8"
      },
      "source": [
        "Подключаем пакеты Python"
      ]
    },
    {
      "cell_type": "code",
      "metadata": {
        "id": "YNgxSjRUM-8k"
      },
      "source": [
        "from sympy import * # пакет символьных вычислений\n",
        "import numpy as np # пакет для работы с многомерными массивами"
      ],
      "execution_count": null,
      "outputs": []
    },
    {
      "cell_type": "markdown",
      "metadata": {
        "id": "FqQM3dMuCVqL"
      },
      "source": [
        "Создаем символы (переменные)"
      ]
    },
    {
      "cell_type": "code",
      "metadata": {
        "id": "vJhoH3KdCUO8"
      },
      "source": [
        "x, y, t, C = symbols(\"x y t C\")"
      ],
      "execution_count": null,
      "outputs": []
    },
    {
      "cell_type": "markdown",
      "metadata": {
        "id": "xlaxFH3yCiej"
      },
      "source": [
        "Теперь можно создавать выражения с этими переменными"
      ]
    },
    {
      "cell_type": "code",
      "metadata": {
        "colab": {
          "base_uri": "https://localhost:8080/",
          "height": 53
        },
        "id": "Eu8fMXyYCh5T",
        "outputId": "7c84f2d4-98b4-4ea7-b6db-aa11071cb99d"
      },
      "source": [
        "f = x ** 2 - sin(x) / 2 + sqrt(x - 1)\n",
        "f"
      ],
      "execution_count": null,
      "outputs": [
        {
          "output_type": "execute_result",
          "data": {
            "text/latex": "$\\displaystyle x^{2} + \\sqrt{x - 1} - \\frac{\\sin{\\left(x \\right)}}{2}$",
            "text/plain": [
              "x**2 + sqrt(x - 1) - sin(x)/2"
            ]
          },
          "metadata": {
            "tags": []
          },
          "execution_count": 3
        }
      ]
    },
    {
      "cell_type": "markdown",
      "metadata": {
        "id": "NMuz07HZCwg0"
      },
      "source": [
        "Дифференцирование выражений выполняется командой diff"
      ]
    },
    {
      "cell_type": "code",
      "metadata": {
        "colab": {
          "base_uri": "https://localhost:8080/",
          "height": 57
        },
        "id": "shU-x1xNCtYY",
        "outputId": "7e7884c4-87b3-42ac-c896-3d0d1135976f"
      },
      "source": [
        "diff(f, x)"
      ],
      "execution_count": null,
      "outputs": [
        {
          "output_type": "execute_result",
          "data": {
            "text/latex": "$\\displaystyle 2 x - \\frac{\\cos{\\left(x \\right)}}{2} + \\frac{1}{2 \\sqrt{x - 1}}$",
            "text/plain": [
              "2*x - cos(x)/2 + 1/(2*sqrt(x - 1))"
            ]
          },
          "metadata": {
            "tags": []
          },
          "execution_count": 4
        }
      ]
    },
    {
      "cell_type": "markdown",
      "metadata": {
        "id": "0Dzm-BdyC7Js"
      },
      "source": [
        "Интегрирование - командой integrate"
      ]
    },
    {
      "cell_type": "code",
      "metadata": {
        "colab": {
          "base_uri": "https://localhost:8080/",
          "height": 59
        },
        "id": "vcXzFhG3C49C",
        "outputId": "a4ca1f9d-6225-4a51-a19d-8efa430dd4a2"
      },
      "source": [
        "integrate(f, x)"
      ],
      "execution_count": null,
      "outputs": [
        {
          "output_type": "execute_result",
          "data": {
            "text/latex": "$\\displaystyle \\frac{x^{3}}{3} + \\frac{2 \\left(x - 1\\right)^{\\frac{3}{2}}}{3} + \\frac{\\cos{\\left(x \\right)}}{2}$",
            "text/plain": [
              "x**3/3 + 2*(x - 1)**(3/2)/3 + cos(x)/2"
            ]
          },
          "metadata": {
            "tags": []
          },
          "execution_count": 5
        }
      ]
    },
    {
      "cell_type": "markdown",
      "metadata": {
        "id": "W0fSNWRDDSZ9"
      },
      "source": [
        "Определенный интеграл вычисляется той же командой, но с указанием во втором аргументе пределов интегрирования"
      ]
    },
    {
      "cell_type": "code",
      "metadata": {
        "colab": {
          "base_uri": "https://localhost:8080/",
          "height": 53
        },
        "id": "w6nUZFUYDM8N",
        "outputId": "9e55e109-742d-4b69-f0d5-84bd0104f135"
      },
      "source": [
        "integrate(f, (x, 2, 5))"
      ],
      "execution_count": null,
      "outputs": [
        {
          "output_type": "execute_result",
          "data": {
            "text/latex": "$\\displaystyle \\frac{\\cos{\\left(5 \\right)}}{2} - \\frac{\\cos{\\left(2 \\right)}}{2} + \\frac{131}{3}$",
            "text/plain": [
              "cos(5)/2 - cos(2)/2 + 131/3"
            ]
          },
          "metadata": {
            "tags": []
          },
          "execution_count": 6
        }
      ]
    },
    {
      "cell_type": "markdown",
      "metadata": {
        "id": "eRdVIOB6DnsM"
      },
      "source": [
        "Решим простейшее дифференциальное уравнение $xy'+2=x^2$ с начальным условием $y(1)=2$"
      ]
    },
    {
      "cell_type": "code",
      "metadata": {
        "colab": {
          "base_uri": "https://localhost:8080/",
          "height": 52
        },
        "id": "sP_sNjxwDizt",
        "outputId": "2dd1942f-7de0-4496-d695-653f9c661031"
      },
      "source": [
        "# создаем производную \n",
        "dydx = Derivative(y, x) # dydx - имя переменной, обозначающей производную\n",
        "dydx"
      ],
      "execution_count": null,
      "outputs": [
        {
          "output_type": "execute_result",
          "data": {
            "text/latex": "$\\displaystyle \\frac{d}{d x} y$",
            "text/plain": [
              "Derivative(y, x)"
            ]
          },
          "metadata": {
            "tags": []
          },
          "execution_count": 8
        }
      ]
    },
    {
      "cell_type": "code",
      "metadata": {
        "colab": {
          "base_uri": "https://localhost:8080/",
          "height": 52
        },
        "id": "9WGDaB3uES47",
        "outputId": "7dcf2344-0c5e-4f64-f89f-f7085b7414e4"
      },
      "source": [
        "# создаем уравнение, функция Eq(a, b) обозначает равенство a = b\n",
        "eq = Eq(x * dydx + 2, x ** 2)\n",
        "eq"
      ],
      "execution_count": null,
      "outputs": [
        {
          "output_type": "execute_result",
          "data": {
            "text/latex": "$\\displaystyle x \\frac{d}{d x} y + 2 = x^{2}$",
            "text/plain": [
              "Eq(x*Derivative(y, x) + 2, x**2)"
            ]
          },
          "metadata": {
            "tags": []
          },
          "execution_count": 9
        }
      ]
    },
    {
      "cell_type": "code",
      "metadata": {
        "colab": {
          "base_uri": "https://localhost:8080/",
          "height": 51
        },
        "id": "Vx2arYBiEVYy",
        "outputId": "53d34dad-7edb-4836-f42b-2c856f332eda"
      },
      "source": [
        "# находим производную с помощью команды solve - решение алгебраических уравнений, результат - список решений, выбор нужного решения через индексирование\n",
        "sol = solve(eq, dydx)[0]\n",
        "sol"
      ],
      "execution_count": null,
      "outputs": [
        {
          "output_type": "execute_result",
          "data": {
            "text/latex": "$\\displaystyle x - \\frac{2}{x}$",
            "text/plain": [
              "x - 2/x"
            ]
          },
          "metadata": {
            "tags": []
          },
          "execution_count": 11
        }
      ]
    },
    {
      "cell_type": "code",
      "metadata": {
        "colab": {
          "base_uri": "https://localhost:8080/",
          "height": 54
        },
        "id": "LCFtmjKqEn13",
        "outputId": "7881ad2d-a3d0-4625-8803-334983f830a0"
      },
      "source": [
        "# интегрируем найденную производную и вручную добавляем константу интегрирования - получаем общее решение заданного ДУ\n",
        "dsol = integrate(sol, x) + C\n",
        "dsol"
      ],
      "execution_count": null,
      "outputs": [
        {
          "output_type": "execute_result",
          "data": {
            "text/latex": "$\\displaystyle C + \\frac{x^{2}}{2} - 2 \\log{\\left(x \\right)}$",
            "text/plain": [
              "C + x**2/2 - 2*log(x)"
            ]
          },
          "metadata": {
            "tags": []
          },
          "execution_count": 13
        }
      ]
    },
    {
      "cell_type": "code",
      "metadata": {
        "colab": {
          "base_uri": "https://localhost:8080/",
          "height": 54
        },
        "id": "kVoQmvFjFFgZ",
        "outputId": "246ec1e9-22ab-404c-bfce-bd946ff0e58b"
      },
      "source": [
        "# Находим константу интегрирования, решая уравнение y(x0, C) = y0, где x0, y0 - начальное условие\n",
        "x0, y0 = 1, 2 # см. условие задачи выше\n",
        "X = dsol.subs(x, x0) # подставили x0 вместо x в решение dsol\n",
        "eq = Eq(y0, X) # приравняли к y0\n",
        "C0 = solve(eq)[0] # нашли С\n",
        "dsol0 = dsol.subs(C, C0) # подставили C в общее решение\n",
        "dsol0 # решение начальной задачи"
      ],
      "execution_count": null,
      "outputs": [
        {
          "output_type": "execute_result",
          "data": {
            "text/latex": "$\\displaystyle \\frac{x^{2}}{2} - 2 \\log{\\left(x \\right)} + \\frac{3}{2}$",
            "text/plain": [
              "x**2/2 - 2*log(x) + 3/2"
            ]
          },
          "metadata": {
            "tags": []
          },
          "execution_count": 15
        }
      ]
    },
    {
      "cell_type": "markdown",
      "metadata": {
        "id": "H0XEExVeGchh"
      },
      "source": [
        "Построим графики с интегральными кривыми"
      ]
    },
    {
      "cell_type": "code",
      "metadata": {
        "colab": {
          "base_uri": "https://localhost:8080/",
          "height": 296
        },
        "id": "PpFmOoxJGYWA",
        "outputId": "37ff21b5-0290-4e6f-efc0-471404464606"
      },
      "source": [
        "# график функции f(x) в интервале от a до b строится командой plot( f(x), (x,a,b) )\n",
        "p = plot(x ** 2, (x, -1, 1))"
      ],
      "execution_count": null,
      "outputs": [
        {
          "output_type": "display_data",
          "data": {
            "image/png": "[encoded data removed]",
            "text/plain": [
              "<Figure size 432x288 with 1 Axes>"
            ]
          },
          "metadata": {
            "tags": [],
            "needs_background": "light"
          }
        }
      ]
    },
    {
      "cell_type": "code",
      "metadata": {
        "colab": {
          "base_uri": "https://localhost:8080/",
          "height": 297
        },
        "id": "GBGzfpARG1SQ",
        "outputId": "8be32920-3c91-482a-ddcd-c0968efe89ee"
      },
      "source": [
        "# график решения dsol0 начальной задачи\n",
        "p = plot(dsol0, (x, 0.1, 4))"
      ],
      "execution_count": null,
      "outputs": [
        {
          "output_type": "display_data",
          "data": {
            "image/png": "[encoded data removed]",
            "text/plain": [
              "<Figure size 432x288 with 1 Axes>"
            ]
          },
          "metadata": {
            "tags": [],
            "needs_background": "light"
          }
        }
      ]
    },
    {
      "cell_type": "code",
      "metadata": {
        "colab": {
          "base_uri": "https://localhost:8080/",
          "height": 297
        },
        "id": "QebGmTEXHD-h",
        "outputId": "3c8eed0d-cba9-4a90-f554-0b91de47c3e9"
      },
      "source": [
        "# график семейства интегральных кривых общего решения dsol\n",
        "p = plot(show=False) # пустой график\n",
        "for c in np.arange(-2, 2, 0.25): # цикл по значениям константы C\n",
        "  p1 = plot(dsol.subs(C, c), (x, 0.1, 4), show=False) # график новой кривой\n",
        "  p.extend(p1) # добавляем новый график к общему графику\n",
        "p.show() # показываем общий график"
      ],
      "execution_count": null,
      "outputs": [
        {
          "output_type": "display_data",
          "data": {
            "image/png": "[encoded data removed]",
            "text/plain": [
              "<Figure size 432x288 with 1 Axes>"
            ]
          },
          "metadata": {
            "tags": [],
            "needs_background": "light"
          }
        }
      ]
    },
    {
      "cell_type": "markdown",
      "metadata": {
        "id": "FppRbfguJNBS"
      },
      "source": [
        "### Задание\n",
        "По описанной выше схеме вычислите производные упражнений 1.1 - 1.3 из аналитической части"
      ]
    },
    {
      "cell_type": "code",
      "metadata": {
        "id": "VSGetY-IJcFJ"
      },
      "source": [
        ""
      ],
      "execution_count": null,
      "outputs": []
    },
    {
      "cell_type": "code",
      "metadata": {
        "id": "Xo_2AL4Zc03I"
      },
      "source": [
        ""
      ],
      "execution_count": null,
      "outputs": []
    },
    {
      "cell_type": "code",
      "metadata": {
        "id": "j3oSTvNQc0pY"
      },
      "source": [
        ""
      ],
      "execution_count": null,
      "outputs": []
    },
    {
      "cell_type": "markdown",
      "metadata": {
        "id": "gKRl28cLJdzf"
      },
      "source": [
        "Вычислите интегралы 1.4 - 1.5 из аналитической части"
      ]
    },
    {
      "cell_type": "code",
      "metadata": {
        "id": "HaoKQLppJvdA"
      },
      "source": [
        ""
      ],
      "execution_count": null,
      "outputs": []
    },
    {
      "cell_type": "code",
      "metadata": {
        "id": "b4aE0UEhc10c"
      },
      "source": [
        ""
      ],
      "execution_count": null,
      "outputs": []
    },
    {
      "cell_type": "markdown",
      "metadata": {
        "id": "8BFh1p9jJwKV"
      },
      "source": [
        "Решите простейшее ДУ из упражнения 1.5 из аналитической части (общее решение и решение начальной задачи)"
      ]
    },
    {
      "cell_type": "code",
      "metadata": {
        "id": "AsTQPhkmJ3Xv"
      },
      "source": [
        ""
      ],
      "execution_count": null,
      "outputs": []
    },
    {
      "cell_type": "markdown",
      "metadata": {
        "id": "KZyL7ZRKKNAC"
      },
      "source": [
        "## Задание 3. Свободное падение тел (модели 1-3 в лекции)"
      ]
    },
    {
      "cell_type": "markdown",
      "metadata": {
        "id": "vtWyLn4gS-SP"
      },
      "source": [
        "Создаем переменные $x$, $y$, $t$, $w_0$, $\\alpha$ и $g$"
      ]
    },
    {
      "cell_type": "code",
      "metadata": {
        "id": "Q0yDIMenKQ2Z"
      },
      "source": [
        ""
      ],
      "execution_count": null,
      "outputs": []
    },
    {
      "cell_type": "markdown",
      "metadata": {
        "id": "ArCLZP9STJGf"
      },
      "source": [
        "Создаем начальные условия $x_0=0$, $y_0=0$, $u_0=w_0\\cos{\\alpha}$, $v_0=w_0\\sin{\\alpha}$ "
      ]
    },
    {
      "cell_type": "code",
      "metadata": {
        "id": "seODxl8KTZrk"
      },
      "source": [
        "x0 =\n",
        "y0 = \n",
        "u0 = \n",
        "v0 = "
      ],
      "execution_count": null,
      "outputs": []
    },
    {
      "cell_type": "markdown",
      "metadata": {
        "id": "O0jvcrKHTg2v"
      },
      "source": [
        "Создаем правые части простейших дифференциальных уравнений для горизонтальной и вертикальной скоростей: $$du/dt=0, dv/dt=-g$$ "
      ]
    },
    {
      "cell_type": "code",
      "metadata": {
        "id": "3IpSPa67UAwV"
      },
      "source": [
        "U = 0\n",
        "V = -g"
      ],
      "execution_count": null,
      "outputs": []
    },
    {
      "cell_type": "markdown",
      "metadata": {
        "id": "zCgIrs-fUGCn"
      },
      "source": [
        "Интегрируем эти правые части и находим сами скорости с учетом начальных условий: $$u=\\int U dt + u_0, v = \\int V dt + v_0$$"
      ]
    },
    {
      "cell_type": "code",
      "metadata": {
        "id": "oCJXFcgzU1_g"
      },
      "source": [
        "u = \n",
        "v = \n",
        "u, v # выводим на экран найденные интегралы"
      ],
      "execution_count": null,
      "outputs": []
    },
    {
      "cell_type": "markdown",
      "metadata": {
        "id": "R7hD1n2XU4Oe"
      },
      "source": [
        "Получили правые части простейших ДУ для $x(t)$ и $y(t)$: $dx/dt=u$, $dy/dt=v$. Интегрируем эти выражения и находим $x(t)$ и $y(t)$ с учетом начальных условий: $$x=\\int u dt + x_0, y=\\int v dt + y0$$"
      ]
    },
    {
      "cell_type": "code",
      "metadata": {
        "id": "QDq7u8WhVWH5"
      },
      "source": [
        "xsol = \n",
        "ysol = \n",
        "xsol, ysol # выводим на экран найденные интегралы"
      ],
      "execution_count": null,
      "outputs": []
    },
    {
      "cell_type": "markdown",
      "metadata": {
        "id": "GW5SmR8uVh8h"
      },
      "source": [
        "Вычисляем время $t_1$ от начала полета до падения, решая уравнение $y(t)=0$. Выражение $y(t)$ хранится в переменной ysol. Данное уравнение имеет два решения, нужно записать в переменную t1 ненулевое решение."
      ]
    },
    {
      "cell_type": "code",
      "metadata": {
        "id": "RLg-XCI2WFlM"
      },
      "source": [
        "t1 = \n",
        "t1 # вывод на экран"
      ],
      "execution_count": null,
      "outputs": []
    },
    {
      "cell_type": "markdown",
      "metadata": {
        "id": "-npAtvYxWSRl"
      },
      "source": [
        "Находим $x$-координату точки падения, подставляя найденное выше значение $t_1$ в выражение $x(t)$ (переменная xsol):"
      ]
    },
    {
      "cell_type": "code",
      "metadata": {
        "id": "l5ioLtRxWj_Y"
      },
      "source": [
        "x1 = \n",
        "x1 # вывод на экран"
      ],
      "execution_count": null,
      "outputs": []
    },
    {
      "cell_type": "markdown",
      "metadata": {
        "id": "gSZwzKqcWsbi"
      },
      "source": [
        "Выражаем $y$ через $x$, исключая из системы $x(t)=0$, $y(t)=0$ время $t$:"
      ]
    },
    {
      "cell_type": "code",
      "metadata": {
        "id": "mokraOegW-jk"
      },
      "source": [
        "T = solve(Eq(xsol, x), t)[0] # выразили t через x\n",
        "Y = ysol.subs(t, T) # подставили T в y(t) вместо t\n",
        "Y # вывод формулы на экран"
      ],
      "execution_count": null,
      "outputs": []
    },
    {
      "cell_type": "markdown",
      "metadata": {
        "id": "mNxULkvvXmk0"
      },
      "source": [
        "Строим траекторию движения тела от точки броска $x=0$ до точки падения $x=x_1$ для ускорения свободного падения $g=9.8$, начальной скорости $w_0=1$, угла $\\alpha=\\pi/4$:"
      ]
    },
    {
      "cell_type": "code",
      "metadata": {
        "id": "KgufvescX_9h"
      },
      "source": [
        "ya = Y.subs(g, 9.8).subs(w0, 1).subs(alpha, np.pi/4) # уравнение траектории\n",
        "x1a = x1.subs(g, 9.8).subs(w0, 1).subs(alpha, np.pi/4) # точка падения\n",
        "p = plot(ya, (x, 0, x1a))"
      ],
      "execution_count": null,
      "outputs": []
    },
    {
      "cell_type": "markdown",
      "metadata": {
        "id": "5xilmr-7Yo5N"
      },
      "source": [
        "Постройте на том же графике аналогичную траекторию полета тела на заданном космическом теле (ускорение свободного падения для этого тела найдите в Интернете): \n",
        "1. Меркурий\n",
        "2. Венера\n",
        "3. Луна\n",
        "4. Марс\n",
        "5. Юпитер\n",
        "6. Ио\n",
        "7. Сатурн\n",
        "8. Титан\n",
        "9. Уран\n",
        "10. Нептун\n",
        "11. Плутон\n",
        "12. Харон"
      ]
    },
    {
      "cell_type": "code",
      "metadata": {
        "id": "Op0o4p5gaPkJ"
      },
      "source": [
        "p1 = \n",
        "p.extend(p1)\n",
        "p.show()"
      ],
      "execution_count": null,
      "outputs": []
    },
    {
      "cell_type": "markdown",
      "metadata": {
        "id": "Fx_y8MXdYkQJ"
      },
      "source": [
        "Постройте семейство траекторий для разных начальных углов $\\alpha\\in[\\pi/20, \\pi/2]$ с шагом $\\pi/20$ для вашего космического тела:"
      ]
    },
    {
      "cell_type": "code",
      "metadata": {
        "id": "qGJ0TR2Ua9tQ"
      },
      "source": [
        ""
      ],
      "execution_count": null,
      "outputs": []
    },
    {
      "cell_type": "markdown",
      "metadata": {
        "id": "o8ZpAr8ua-Lx"
      },
      "source": [
        "Постройте семейство траекторий для разных начальных скоростей $w_0\\in[1,10]$ с шагом $1$ для вашего космического тела"
      ]
    },
    {
      "cell_type": "code",
      "metadata": {
        "id": "TLJtoBRnbK8g"
      },
      "source": [
        ""
      ],
      "execution_count": null,
      "outputs": []
    }
  ]
}